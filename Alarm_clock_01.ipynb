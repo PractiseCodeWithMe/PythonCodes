{
 "cells": [
  {
   "cell_type": "markdown",
   "metadata": {},
   "source": [
    "# Alarm Clock"
   ]
  },
  {
   "cell_type": "code",
   "execution_count": 1,
   "metadata": {},
   "outputs": [],
   "source": [
    "from datetime import datetime\n",
    "from playsound import playsound"
   ]
  },
  {
   "cell_type": "code",
   "execution_count": 2,
   "metadata": {},
   "outputs": [
    {
     "name": "stdout",
     "output_type": "stream",
     "text": [
      "Enter the alarm time in HH:MM:SS am format01:22:00 am\n",
      "Alarm time is set for: 01:22:00 am\n"
     ]
    }
   ],
   "source": [
    "alarmtime = input('Enter the alarm time in HH:MM:SS am format')\n",
    "print('Alarm time is set for:', alarmtime)\n",
    "\n",
    "alarmHour = alarmtime[0:2]\n",
    "alarmMinute = alarmtime[3:5]\n",
    "alarmSecond = alarmtime[6:8]\n",
    "alarmportion = alarmtime[9:11].upper()\n"
   ]
  },
  {
   "cell_type": "code",
   "execution_count": 3,
   "metadata": {},
   "outputs": [
    {
     "name": "stdout",
     "output_type": "stream",
     "text": [
      "Good Morning\n"
     ]
    }
   ],
   "source": [
    "while True:\n",
    "    currenttime = datetime.now()\n",
    "    currentHour = currenttime.strftime('%I')\n",
    "    currentMinute = currenttime.strftime('%M')\n",
    "    currentSecond = currenttime.strftime('%S')\n",
    "    currentportion = currenttime.strftime('%p')\n",
    "    \n",
    "    if alarmHour == currentHour and alarmMinute == currentMinute and alarmSecond == currentSecond and alarmportion == currentportion:\n",
    "        print('Good Morning')\n",
    "        playsound('yuvan_theme.mp3')\n",
    "        break"
   ]
  },
  {
   "cell_type": "code",
   "execution_count": null,
   "metadata": {},
   "outputs": [],
   "source": []
  },
  {
   "cell_type": "code",
   "execution_count": null,
   "metadata": {},
   "outputs": [],
   "source": []
  }
 ],
 "metadata": {
  "kernelspec": {
   "display_name": "Python 3",
   "language": "python",
   "name": "python3"
  },
  "language_info": {
   "codemirror_mode": {
    "name": "ipython",
    "version": 3
   },
   "file_extension": ".py",
   "mimetype": "text/x-python",
   "name": "python",
   "nbconvert_exporter": "python",
   "pygments_lexer": "ipython3",
   "version": "3.8.5"
  }
 },
 "nbformat": 4,
 "nbformat_minor": 4
}
