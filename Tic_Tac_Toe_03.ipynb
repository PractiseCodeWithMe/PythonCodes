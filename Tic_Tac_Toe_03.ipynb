{
 "cells": [
  {
   "cell_type": "markdown",
   "metadata": {},
   "source": [
    " | |   0\n",
    "-----  1\n",
    " | |   2\n",
    "-----  3\n",
    " | |   4\n",
    "\n",
    "01234"
   ]
  },
  {
   "cell_type": "code",
   "execution_count": 10,
   "metadata": {},
   "outputs": [],
   "source": [
    "def buildtictactoe(matrix):\n",
    "    for row in range(5):\n",
    "        if row%2 == 0:\n",
    "            matrixrow = int(row/2)\n",
    "            for column in range(5):\n",
    "                if column%2 == 0:\n",
    "                    matrixcol = int(column/2)\n",
    "                    if column == 4:\n",
    "                        #print(' ')\n",
    "                        print(matrix[matrixrow][matrixcol])\n",
    "                    else:\n",
    "                        #print(' ', end= '')\n",
    "                        print(matrix[matrixrow][matrixcol],end = '')\n",
    "                else:\n",
    "                    print('|', end = '')\n",
    "        else:\n",
    "            print('-----')"
   ]
  },
  {
   "cell_type": "code",
   "execution_count": null,
   "metadata": {},
   "outputs": [
    {
     "name": "stdout",
     "output_type": "stream",
     "text": [
      "player 1 turn\n",
      "enter the row:0\n",
      "enter the column:0\n",
      "X| | \n",
      "-----\n",
      " | | \n",
      "-----\n",
      " | | \n",
      "player 2 turn\n",
      "enter the row:2\n",
      "enter the column:2\n",
      "X| | \n",
      "-----\n",
      " | | \n",
      "-----\n",
      " | |O\n",
      "player 1 turn\n",
      "enter the row:1\n",
      "enter the column:1\n",
      "X| | \n",
      "-----\n",
      " |X| \n",
      "-----\n",
      " | |O\n",
      "player 2 turn\n"
     ]
    }
   ],
   "source": [
    "matrix = [[' ',' ',' '],[' ', ' ', ' '], [' ',' ',' ']]\n",
    "player = 1\n",
    "while True:\n",
    "    print('player '+str(player)+' turn')\n",
    "    rowval = int(input('enter the row:'))\n",
    "    colval = int(input('enter the column:'))\n",
    "    if player == 1:\n",
    "        if matrix[rowval][colval] == ' ':\n",
    "            matrix[rowval][colval] = 'X'\n",
    "            player = 2\n",
    "    else:\n",
    "        if matrix[rowval][colval] == ' ':           \n",
    "            matrix[rowval][colval] = 'O'\n",
    "            player = 1\n",
    "    #print(matrix)\n",
    "    buildtictactoe(matrix)"
   ]
  },
  {
   "cell_type": "code",
   "execution_count": null,
   "metadata": {},
   "outputs": [],
   "source": []
  }
 ],
 "metadata": {
  "kernelspec": {
   "display_name": "Python 3",
   "language": "python",
   "name": "python3"
  },
  "language_info": {
   "codemirror_mode": {
    "name": "ipython",
    "version": 3
   },
   "file_extension": ".py",
   "mimetype": "text/x-python",
   "name": "python",
   "nbconvert_exporter": "python",
   "pygments_lexer": "ipython3",
   "version": "3.8.5"
  }
 },
 "nbformat": 4,
 "nbformat_minor": 4
}
