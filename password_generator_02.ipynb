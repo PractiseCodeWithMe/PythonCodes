{
 "cells": [
  {
   "cell_type": "markdown",
   "metadata": {},
   "source": [
    "# Goal: \n",
    "   ##  1. Generate random password\n",
    "   ##   2. Should be minimum 4 characters.\n",
    "   ##   3. Should have atleast one lower case, upper case, number and special character in it."
   ]
  },
  {
   "cell_type": "code",
   "execution_count": 24,
   "metadata": {},
   "outputs": [
    {
     "name": "stdout",
     "output_type": "stream",
     "text": [
      "Enter the length of the new password8\n",
      "uY0)6gtj\n"
     ]
    }
   ],
   "source": [
    "import random\n",
    "\n",
    "lower = 'qwertyuiopasdfghjklzxcvbnm'\n",
    "upper = lower.upper()\n",
    "num = '1234567890'\n",
    "spl = '!@#$%&*()'\n",
    "group = lower + upper + num + spl\n",
    "\n",
    "passlength = int(input('Enter the length of the new password'))\n",
    "\n",
    "if passlength < 4:\n",
    "    raise Exception('Password length cannot be less than 4')\n",
    "\n",
    "p = \"\".join(random.sample(lower,1))\n",
    "p = p + \"\".join(random.sample(upper,1))\n",
    "p = p + \"\".join(random.sample(num,1))\n",
    "p = p + \"\".join(random.sample(spl,1))\n",
    "\n",
    "if passlength > 4:\n",
    "    p = p + \"\".join(random.sample(group, passlength - 4))\n",
    "    \n",
    "print(p)"
   ]
  },
  {
   "cell_type": "code",
   "execution_count": null,
   "metadata": {},
   "outputs": [],
   "source": []
  }
 ],
 "metadata": {
  "kernelspec": {
   "display_name": "Python 3",
   "language": "python",
   "name": "python3"
  },
  "language_info": {
   "codemirror_mode": {
    "name": "ipython",
    "version": 3
   },
   "file_extension": ".py",
   "mimetype": "text/x-python",
   "name": "python",
   "nbconvert_exporter": "python",
   "pygments_lexer": "ipython3",
   "version": "3.8.5"
  }
 },
 "nbformat": 4,
 "nbformat_minor": 4
}
